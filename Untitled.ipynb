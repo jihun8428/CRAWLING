{
 "cells": [
  {
   "cell_type": "code",
   "execution_count": 4,
   "id": "377dbd85-62b6-4097-a153-520600f3edbc",
   "metadata": {},
   "outputs": [
    {
     "ename": "TimeoutException",
     "evalue": "Message: \n",
     "output_type": "error",
     "traceback": [
      "\u001b[0;31m---------------------------------------------------------------------------\u001b[0m",
      "\u001b[0;31mTimeoutException\u001b[0m                          Traceback (most recent call last)",
      "Cell \u001b[0;32mIn[4], line 35\u001b[0m\n\u001b[1;32m     32\u001b[0m     last_height \u001b[38;5;241m=\u001b[39m new_height\n\u001b[1;32m     34\u001b[0m \u001b[38;5;66;03m# 매장 정보 수집\u001b[39;00m\n\u001b[0;32m---> 35\u001b[0m store_list \u001b[38;5;241m=\u001b[39m \u001b[43mwait\u001b[49m\u001b[38;5;241;43m.\u001b[39;49m\u001b[43muntil\u001b[49m\u001b[43m(\u001b[49m\u001b[43mEC\u001b[49m\u001b[38;5;241;43m.\u001b[39;49m\u001b[43mpresence_of_all_elements_located\u001b[49m\u001b[43m(\u001b[49m\u001b[43m(\u001b[49m\u001b[43mBy\u001b[49m\u001b[38;5;241;43m.\u001b[39;49m\u001b[43mCSS_SELECTOR\u001b[49m\u001b[43m,\u001b[49m\u001b[43m \u001b[49m\u001b[38;5;124;43m'\u001b[39;49m\u001b[38;5;124;43m.store-list .store-item\u001b[39;49m\u001b[38;5;124;43m'\u001b[39;49m\u001b[43m)\u001b[49m\u001b[43m)\u001b[49m\u001b[43m)\u001b[49m\n\u001b[1;32m     37\u001b[0m \u001b[38;5;28;01mfor\u001b[39;00m store \u001b[38;5;129;01min\u001b[39;00m store_list:\n\u001b[1;32m     38\u001b[0m     name \u001b[38;5;241m=\u001b[39m store\u001b[38;5;241m.\u001b[39mfind_element(By\u001b[38;5;241m.\u001b[39mCSS_SELECTOR, \u001b[38;5;124m'\u001b[39m\u001b[38;5;124m.store-name\u001b[39m\u001b[38;5;124m'\u001b[39m)\u001b[38;5;241m.\u001b[39mtext\n",
      "File \u001b[0;32m/Library/Frameworks/Python.framework/Versions/3.11/lib/python3.11/site-packages/selenium/webdriver/support/wait.py:105\u001b[0m, in \u001b[0;36mWebDriverWait.until\u001b[0;34m(self, method, message)\u001b[0m\n\u001b[1;32m    103\u001b[0m     \u001b[38;5;28;01mif\u001b[39;00m time\u001b[38;5;241m.\u001b[39mmonotonic() \u001b[38;5;241m>\u001b[39m end_time:\n\u001b[1;32m    104\u001b[0m         \u001b[38;5;28;01mbreak\u001b[39;00m\n\u001b[0;32m--> 105\u001b[0m \u001b[38;5;28;01mraise\u001b[39;00m TimeoutException(message, screen, stacktrace)\n",
      "\u001b[0;31mTimeoutException\u001b[0m: Message: \n"
     ]
    }
   ],
   "source": [
    "from selenium import webdriver\n",
    "from selenium.webdriver.chrome.service import Service\n",
    "from selenium.webdriver.common.by import By\n",
    "from selenium.webdriver.common.keys import Keys\n",
    "from selenium.webdriver.support.ui import WebDriverWait\n",
    "from selenium.webdriver.support import expected_conditions as EC\n",
    "import time\n",
    "\n",
    "# Chrome WebDriver 경로 설정 (본인 컴퓨터 환경에 맞게 수정 필요)\n",
    "#webdriver_path = '/Downloads/현대오토에버'\n",
    "\n",
    "# Chrome WebDriver 설정\n",
    "#options = webdriver.ChromeOptions()\n",
    "#options.add_argument('--headless')  # 화면없는(headless) 모드로 실행\n",
    "#driver = webdriver.Chrome(executable_path=webdriver_path, options=options)\n",
    "driver = webdriver.Chrome()\n",
    "# 카카오프렌즈스크린 홈페이지로 이동\n",
    "driver.get('https://www.friendsscreen.kr/main/shop')\n",
    "\n",
    "# 매장 정보 수집을 위한 대기 시간 설정\n",
    "wait = WebDriverWait(driver, 10)\n",
    "\n",
    "try:\n",
    "    # 매장 리스트를 가져오기 위해 페이지 스크롤\n",
    "    last_height = driver.execute_script(\"return document.body.scrollHeight\")\n",
    "    while True:\n",
    "        driver.execute_script(\"window.scrollTo(0, document.body.scrollHeight);\")\n",
    "        time.sleep(10)  # 스크롤 후 잠시 대기\n",
    "        new_height = driver.execute_script(\"return document.body.scrollHeight\")\n",
    "        if new_height == last_height:\n",
    "            break\n",
    "        last_height = new_height\n",
    "\n",
    "    # 매장 정보 수집\n",
    "    store_list = wait.until(EC.presence_of_all_elements_located((By.CSS_SELECTOR, '.store-list .store-item')))\n",
    "    \n",
    "    for store in store_list:\n",
    "        name = store.find_element(By.CSS_SELECTOR, '.store-name').text\n",
    "        location = store.find_element(By.CSS_SELECTOR, '.store-location').text\n",
    "        print(f\"매장 이름: {name}, 위치: {location}\")\n",
    "\n",
    "finally:\n",
    "    # 브라우저 종료\n",
    "    driver.quit()"
   ]
  },
  {
   "cell_type": "code",
   "execution_count": null,
   "id": "226b707e-14f1-416b-85cd-8a2874f0190e",
   "metadata": {},
   "outputs": [],
   "source": []
  }
 ],
 "metadata": {
  "kernelspec": {
   "display_name": "Python 3 (ipykernel)",
   "language": "python",
   "name": "python3"
  },
  "language_info": {
   "codemirror_mode": {
    "name": "ipython",
    "version": 3
   },
   "file_extension": ".py",
   "mimetype": "text/x-python",
   "name": "python",
   "nbconvert_exporter": "python",
   "pygments_lexer": "ipython3",
   "version": "3.11.1"
  }
 },
 "nbformat": 4,
 "nbformat_minor": 5
}
